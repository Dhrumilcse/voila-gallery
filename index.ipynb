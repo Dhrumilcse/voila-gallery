{
 "cells": [
  {
   "cell_type": "markdown",
   "metadata": {},
   "source": [
    "# Voila gallery\n",
    "\n",
    "This is a set of examples demonstrating how to use [Voila](https://github.com/QuantStack/voila).\n",
    "\n",
    "The source for the examples is available [on GitHub](https://github.com/pbugnion/voila-gallery).\n",
    "\n",
    "## Index\n",
    "\n",
    "- [country-indicators](country-indicators/index) shows how to integrate Matplotlib plots using output widgets.\n",
    "- [gaussian-density](gaussian-density/index) shows how to build a dashboard around a bqplot plot.\n",
    "- [stl-display](stl-display/index) shows how to read STL files and display them with [ipyvolume](https://github.com/maartenbreddels/ipyvolume)."
   ]
  },
  {
   "cell_type": "code",
   "execution_count": null,
   "metadata": {},
   "outputs": [],
   "source": []
  }
 ],
 "metadata": {
  "kernelspec": {
   "display_name": "Python 3",
   "language": "python",
   "name": "python3"
  },
  "language_info": {
   "codemirror_mode": {
    "name": "ipython",
    "version": 3
   },
   "file_extension": ".py",
   "mimetype": "text/x-python",
   "name": "python",
   "nbconvert_exporter": "python",
   "pygments_lexer": "ipython3",
   "version": "3.6.4"
  }
 },
 "nbformat": 4,
 "nbformat_minor": 2
}
